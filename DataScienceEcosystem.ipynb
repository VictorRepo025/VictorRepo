{
 "cells": [
  {
   "cell_type": "markdown",
   "id": "a4088530-cb7f-450b-ab7e-05871e05a6bd",
   "metadata": {},
   "source": [
    "# Data Science Tools And Ecosystem"
   ]
  },
  {
   "cell_type": "markdown",
   "id": "dd679a36-c71b-4d58-9f03-9a361ef0ed37",
   "metadata": {},
   "source": [
    "In this notebook, Data Science Tools and Ecosystem are summarized"
   ]
  },
  {
   "cell_type": "markdown",
   "id": "b8f862ae-7aff-46be-b913-1ff28cf97454",
   "metadata": {},
   "source": [
    "Some of the popular languages that Data Scientists use are:\n",
    "Python,R,SQL,Java,Scala,C++,Javascript,Julia"
   ]
  },
  {
   "cell_type": "markdown",
   "id": "9a0c653a-253b-4544-974d-572edd08e19e",
   "metadata": {},
   "source": [
    "Some of the commonly used libraries used by Data Scientists include:\n",
    "\n",
    "1.Pandas\n",
    "2.Numpy\n",
    "3.Matplotlib\n",
    "4.ScikitLearn\n",
    "5.PyTorch\n",
    "6.TensorFlow"
   ]
  },
  {
   "cell_type": "markdown",
   "id": "270433c6-801c-48de-a859-ee5b99bed594",
   "metadata": {},
   "source": [
    "|Data Science Tools|\n",
    "|------------------|\n",
    "|  JupyterNotebook |\n",
    "|   JupyterLab     |\n",
    "|   RStudio        |\n"
   ]
  },
  {
   "cell_type": "markdown",
   "id": "2643c192-cab3-4e25-95b2-efd150cfaf62",
   "metadata": {},
   "source": [
    "### Below are a few examples of evaluating arithmetic expressions in Python:"
   ]
  },
  {
   "cell_type": "code",
   "execution_count": 5,
   "id": "13eeb74b-4840-4abd-ac88-2e0009214c8f",
   "metadata": {},
   "outputs": [
    {
     "name": "stdout",
     "output_type": "stream",
     "text": [
      "17\n"
     ]
    }
   ],
   "source": [
    "\n",
    "a=3\n",
    "b=4\n",
    "c=5\n",
    "d=(a*b)+c # This is a simple expressions to multiply then add the integers\n",
    "print(d)\n"
   ]
  },
  {
   "cell_type": "code",
   "execution_count": 6,
   "id": "04951e63-a060-41b6-a999-50a7fafc1ed9",
   "metadata": {},
   "outputs": [
    {
     "name": "stdout",
     "output_type": "stream",
     "text": [
      "3.3333333333333335\n"
     ]
    }
   ],
   "source": [
    "def minute_to_hour_conversion(minutes):\n",
    "     hour = minutes/60  # This will convert 200 minutes to hours by diving by 60\n",
    "     print(hour)S\n",
    "minutes= 200\n",
    "hour= minute_to_hour_conversion(minutes)\n",
    "\n"
   ]
  },
  {
   "cell_type": "markdown",
   "id": "ecafdab3-c9f5-44c3-bd37-d676512dc32c",
   "metadata": {},
   "source": [
    "**OBJECTIVES:**\n",
    "List of Libraries for Data Science\n",
    "1. Scientific computing libraries e.g pandas,Numpy\n",
    "2. Visualization libraries e.g Matplotlib\n",
    "3. Machine learning libraries e.g ScikitLearn\n",
    "4. Deep Learning libaries e.g Tensor Flow\n"
   ]
  },
  {
   "cell_type": "markdown",
   "id": "796d38db-ff64-4164-8922-d3b50cbd64fb",
   "metadata": {},
   "source": [
    "## Author\n",
    "Ugwuegede Victor"
   ]
  },
  {
   "cell_type": "code",
   "execution_count": null,
   "id": "9e882af9-5af5-4c93-a475-f3fccc114f71",
   "metadata": {},
   "outputs": [],
   "source": []
  }
 ],
 "metadata": {
  "kernelspec": {
   "display_name": "Python 3 (ipykernel)",
   "language": "python",
   "name": "python3"
  },
  "language_info": {
   "codemirror_mode": {
    "name": "ipython",
    "version": 3
   },
   "file_extension": ".py",
   "mimetype": "text/x-python",
   "name": "python",
   "nbconvert_exporter": "python",
   "pygments_lexer": "ipython3",
   "version": "3.12.9"
  }
 },
 "nbformat": 4,
 "nbformat_minor": 5
}
